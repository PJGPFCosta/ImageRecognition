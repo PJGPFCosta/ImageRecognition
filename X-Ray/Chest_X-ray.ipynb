{
 "cells": [
  {
   "cell_type": "code",
   "execution_count": 12,
   "metadata": {},
   "outputs": [],
   "source": [
    "import os\n",
    "import torch\n",
    "import torchvision\n",
    "import torchvision.transforms as transforms\n",
    "import torch.nn as nn\n",
    "import torch.optim as optim\n",
    "from torch.utils.data import DataLoader\n",
    "from torchvision.datasets import ImageFolder\n",
    "from torchvision.utils import make_grid\n",
    "import matplotlib.pyplot as plt\n",
    "import shutil\n",
    "from PIL import Image  # Import the Image module from PIL\n"
   ]
  },
  {
   "cell_type": "code",
   "execution_count": 25,
   "metadata": {},
   "outputs": [],
   "source": [
    "# get info form images:\n",
    "def get_info_images(images_dir):\n",
    "    # List subdirectories (assuming \"NORMAL\" and \"PNEUMONIA\")\n",
    "    subdirectories = [os.path.join(images_dir, sub_dir) for sub_dir in os.listdir(images_dir) if os.path.isdir(os.path.join(images_dir, sub_dir))]\n",
    "\n",
    "    #summary to return\n",
    "    images_size=[]\n",
    "\n",
    "    # Iterate through subdirectories\n",
    "    for sub_dir in subdirectories:\n",
    "        # Get class label (subdirectory name)\n",
    "        class_label = os.path.basename(sub_dir)\n",
    "\n",
    "        # List image files in the subdirectory\n",
    "        image_files = [f for f in os.listdir(sub_dir) if f.endswith(('.jpg', '.jpeg', '.png', '.bmp', '.gif', '.tiff'))]\n",
    "\n",
    "        # Iterate through the image files and print their information\n",
    "        for image_file in image_files:\n",
    "            image_path = os.path.join(sub_dir, image_file)\n",
    "            try:\n",
    "                with Image.open(image_path) as img:\n",
    "                    # Get image properties\n",
    "                    width, height = img.size\n",
    "                    format = img.format\n",
    "                    mode = img.mode\n",
    "\n",
    "                    images_size.append([width,height])\n",
    "\n",
    "                    # Print image information\n",
    "                    #print(f\"Class: {class_label}\")\n",
    "                    #print(f\"Image: {image_file}\")\n",
    "                    #print(f\"Dimensions: {width}x{height}\")\n",
    "                    #print(f\"Format: {format}\")\n",
    "                    #print(f\"Mode: {mode}\\n\")\n",
    "            except Exception as e:\n",
    "                print(f\"Error processing {image_file}: {e}\")\n",
    "    \n",
    "    return images_size\n",
    "\n",
    "\n"
   ]
  },
  {
   "cell_type": "code",
   "execution_count": 38,
   "metadata": {},
   "outputs": [
    {
     "name": "stdout",
     "output_type": "stream",
     "text": [
      "The most frequent value is: [[1072, 648]]\n"
     ]
    }
   ],
   "source": [
    "images_sizes=get_info_images('Dataset/train')\n",
    "\n",
    "from collections import Counter\n",
    "\n",
    "# Convert the list of lists to a tuple of tuples for hashability\n",
    "values_tuples = tuple(tuple(val) for val in images_sizes)\n",
    "\n",
    "# Count occurrences of each value in the list\n",
    "value_counts = Counter(values_tuples)\n",
    "\n",
    "# Find the most frequent value(s)\n",
    "max_count = max(value_counts.values())\n",
    "modes_tuples = [value for value, count in value_counts.items() if count == max_count]\n",
    "\n",
    "# Convert the modes back to lists\n",
    "modes = [list(val) for val in modes_tuples]\n",
    "\n",
    "print(f\"The most frequent value is: {modes}\")\n"
   ]
  },
  {
   "cell_type": "code",
   "execution_count": 45,
   "metadata": {},
   "outputs": [],
   "source": [
    "# 1 - Data Loading and Preprocessing:\n",
    "# Set up data loaders to load and preprocess your image data:\n",
    "\n",
    "# Define data directories\n",
    "train_data_dir = 'Dataset/train'\n",
    "test_data_dir = 'Dataset/test'\n",
    "\n",
    "# Define image transformations\n",
    "transform = transforms.Compose([\n",
    "    transforms.Resize((modes[0][0], modes[0][1])),\n",
    "    transforms.ToTensor(),\n",
    "    transforms.Normalize(mean=[0.485, 0.456, 0.406], std=[0.229, 0.224, 0.225])\n",
    "])\n",
    "\n",
    "# Create datasets\n",
    "train_dataset = ImageFolder(root=train_data_dir, transform=transform)\n",
    "test_dataset = ImageFolder(root=test_data_dir, transform=transform)\n",
    "\n",
    "# Create data loaders\n",
    "batch_size = 32\n",
    "train_loader = DataLoader(train_dataset, batch_size=batch_size, shuffle=True, num_workers=4)\n",
    "test_loader = DataLoader(test_dataset, batch_size=batch_size, shuffle=False, num_workers=4)\n",
    "\n",
    "# Define the number of classes\n",
    "num_classes = len(train_dataset.classes)\n"
   ]
  },
  {
   "cell_type": "markdown",
   "metadata": {},
   "source": [
    "# CNN"
   ]
  },
  {
   "cell_type": "code",
   "execution_count": 48,
   "metadata": {},
   "outputs": [],
   "source": [
    "import torch.nn as nn\n",
    "\n",
    "class CNN(nn.Module):\n",
    "    def __init__(self, num_classes, input_size):\n",
    "        super(CNN, self).__init__()\n",
    "        self.features = nn.Sequential(\n",
    "            nn.Conv2d(3, 16, kernel_size=3, stride=1, padding=1),\n",
    "            nn.ReLU(inplace=True),\n",
    "            nn.MaxPool2d(kernel_size=2, stride=2),\n",
    "            nn.Conv2d(16, 32, kernel_size=3, stride=1, padding=1),\n",
    "            nn.ReLU(inplace=True),\n",
    "            nn.MaxPool2d(kernel_size=2, stride=2)\n",
    "        )\n",
    "        # Calculate the size of the final fully connected layer based on input_size\n",
    "        self.final_fc_size = 32 * (input_size[0] // 4) * (input_size[1] // 4)\n",
    "        self.classifier = nn.Sequential(\n",
    "            nn.Linear(self.final_fc_size, 128),\n",
    "            nn.ReLU(inplace=True),\n",
    "            nn.Linear(128, num_classes)\n",
    "        )\n",
    "\n",
    "    def forward(self, x):\n",
    "        x = self.features(x)\n",
    "        x = x.view(x.size(0), -1)\n",
    "        x = self.classifier(x)\n",
    "        return x\n",
    "\n",
    "# Initialize the CNN model with the desired input size\n",
    "input_size = (modes[0][0], modes[0][1])\n",
    "# Initialize the model\n",
    "model = CNN(num_classes, input_size)\n",
    "\n",
    "# Define loss function and optimizer\n",
    "criterion = nn.CrossEntropyLoss()\n",
    "optimizer = optim.Adam(model.parameters(), lr=0.001)"
   ]
  },
  {
   "cell_type": "code",
   "execution_count": 49,
   "metadata": {},
   "outputs": [
    {
     "name": "stdout",
     "output_type": "stream",
     "text": [
      "Epoch [1/10] - Loss: 0.09708212316036224\n",
      "Epoch [2/10] - Loss: 0.05024762079119682\n",
      "Epoch [3/10] - Loss: 0.01573743112385273\n",
      "Epoch [4/10] - Loss: 0.010693574324250221\n",
      "Epoch [5/10] - Loss: 0.00020770782430190593\n"
     ]
    },
    {
     "ename": "KeyboardInterrupt",
     "evalue": "",
     "output_type": "error",
     "traceback": [
      "\u001b[1;31m---------------------------------------------------------------------------\u001b[0m",
      "\u001b[1;31mKeyboardInterrupt\u001b[0m                         Traceback (most recent call last)",
      "\u001b[1;32mc:\\Users\\pjcosta\\OneDrive - KPMG\\Desktop\\Pyhton Helpers\\Pyhton Helpers\\Resources\\data-pipeline\\Image Recognition\\Chest x-ray peneumonia\\Chest_X-ray.ipynb Cell 7\u001b[0m line \u001b[0;36m1\n\u001b[0;32m     <a href='vscode-notebook-cell:/c%3A/Users/pjcosta/OneDrive%20-%20KPMG/Desktop/Pyhton%20Helpers/Pyhton%20Helpers/Resources/data-pipeline/Image%20Recognition/Chest%20x-ray%20peneumonia/Chest_X-ray.ipynb#X33sZmlsZQ%3D%3D?line=10'>11</a>\u001b[0m     outputs \u001b[39m=\u001b[39m model(inputs)\n\u001b[0;32m     <a href='vscode-notebook-cell:/c%3A/Users/pjcosta/OneDrive%20-%20KPMG/Desktop/Pyhton%20Helpers/Pyhton%20Helpers/Resources/data-pipeline/Image%20Recognition/Chest%20x-ray%20peneumonia/Chest_X-ray.ipynb#X33sZmlsZQ%3D%3D?line=11'>12</a>\u001b[0m     loss \u001b[39m=\u001b[39m criterion(outputs, labels)\n\u001b[1;32m---> <a href='vscode-notebook-cell:/c%3A/Users/pjcosta/OneDrive%20-%20KPMG/Desktop/Pyhton%20Helpers/Pyhton%20Helpers/Resources/data-pipeline/Image%20Recognition/Chest%20x-ray%20peneumonia/Chest_X-ray.ipynb#X33sZmlsZQ%3D%3D?line=12'>13</a>\u001b[0m     loss\u001b[39m.\u001b[39;49mbackward()\n\u001b[0;32m     <a href='vscode-notebook-cell:/c%3A/Users/pjcosta/OneDrive%20-%20KPMG/Desktop/Pyhton%20Helpers/Pyhton%20Helpers/Resources/data-pipeline/Image%20Recognition/Chest%20x-ray%20peneumonia/Chest_X-ray.ipynb#X33sZmlsZQ%3D%3D?line=13'>14</a>\u001b[0m     optimizer\u001b[39m.\u001b[39mstep()\n\u001b[0;32m     <a href='vscode-notebook-cell:/c%3A/Users/pjcosta/OneDrive%20-%20KPMG/Desktop/Pyhton%20Helpers/Pyhton%20Helpers/Resources/data-pipeline/Image%20Recognition/Chest%20x-ray%20peneumonia/Chest_X-ray.ipynb#X33sZmlsZQ%3D%3D?line=14'>15</a>\u001b[0m \u001b[39mprint\u001b[39m(\u001b[39mf\u001b[39m\u001b[39m\"\u001b[39m\u001b[39mEpoch [\u001b[39m\u001b[39m{\u001b[39;00mepoch\u001b[39m+\u001b[39m\u001b[39m1\u001b[39m\u001b[39m}\u001b[39;00m\u001b[39m/\u001b[39m\u001b[39m{\u001b[39;00mnum_epochs\u001b[39m}\u001b[39;00m\u001b[39m] - Loss: \u001b[39m\u001b[39m{\u001b[39;00mloss\u001b[39m.\u001b[39mitem()\u001b[39m}\u001b[39;00m\u001b[39m\"\u001b[39m)\n",
      "File \u001b[1;32mc:\\Users\\pjcosta\\AppData\\Local\\Programs\\Python\\Python39\\lib\\site-packages\\torch\\tensor.py:245\u001b[0m, in \u001b[0;36mTensor.backward\u001b[1;34m(self, gradient, retain_graph, create_graph, inputs)\u001b[0m\n\u001b[0;32m    236\u001b[0m \u001b[39mif\u001b[39;00m has_torch_function_unary(\u001b[39mself\u001b[39m):\n\u001b[0;32m    237\u001b[0m     \u001b[39mreturn\u001b[39;00m handle_torch_function(\n\u001b[0;32m    238\u001b[0m         Tensor\u001b[39m.\u001b[39mbackward,\n\u001b[0;32m    239\u001b[0m         (\u001b[39mself\u001b[39m,),\n\u001b[1;32m   (...)\u001b[0m\n\u001b[0;32m    243\u001b[0m         create_graph\u001b[39m=\u001b[39mcreate_graph,\n\u001b[0;32m    244\u001b[0m         inputs\u001b[39m=\u001b[39minputs)\n\u001b[1;32m--> 245\u001b[0m torch\u001b[39m.\u001b[39;49mautograd\u001b[39m.\u001b[39;49mbackward(\u001b[39mself\u001b[39;49m, gradient, retain_graph, create_graph, inputs\u001b[39m=\u001b[39;49minputs)\n",
      "File \u001b[1;32mc:\\Users\\pjcosta\\AppData\\Local\\Programs\\Python\\Python39\\lib\\site-packages\\torch\\autograd\\__init__.py:145\u001b[0m, in \u001b[0;36mbackward\u001b[1;34m(tensors, grad_tensors, retain_graph, create_graph, grad_variables, inputs)\u001b[0m\n\u001b[0;32m    142\u001b[0m \u001b[39mif\u001b[39;00m retain_graph \u001b[39mis\u001b[39;00m \u001b[39mNone\u001b[39;00m:\n\u001b[0;32m    143\u001b[0m     retain_graph \u001b[39m=\u001b[39m create_graph\n\u001b[1;32m--> 145\u001b[0m Variable\u001b[39m.\u001b[39;49m_execution_engine\u001b[39m.\u001b[39;49mrun_backward(\n\u001b[0;32m    146\u001b[0m     tensors, grad_tensors_, retain_graph, create_graph, inputs,\n\u001b[0;32m    147\u001b[0m     allow_unreachable\u001b[39m=\u001b[39;49m\u001b[39mTrue\u001b[39;49;00m, accumulate_grad\u001b[39m=\u001b[39;49m\u001b[39mTrue\u001b[39;49;00m)\n",
      "\u001b[1;31mKeyboardInterrupt\u001b[0m: "
     ]
    }
   ],
   "source": [
    "# Training loop\n",
    "num_epochs = 3  # Adjust as needed\n",
    "device = torch.device(\"cuda\" if torch.cuda.is_available() else \"cpu\")\n",
    "model.to(device)\n",
    "\n",
    "for epoch in range(num_epochs):\n",
    "    model.train()\n",
    "    for inputs, labels in train_loader:\n",
    "        inputs, labels = inputs.to(device), labels.to(device)\n",
    "        optimizer.zero_grad()\n",
    "        outputs = model(inputs)\n",
    "        loss = criterion(outputs, labels)\n",
    "        loss.backward()\n",
    "        optimizer.step()\n",
    "    print(f\"Epoch [{epoch+1}/{num_epochs}] - Loss: {loss.item()}\")\n",
    "\n",
    "print(\"Training finished.\")\n"
   ]
  },
  {
   "cell_type": "code",
   "execution_count": 50,
   "metadata": {},
   "outputs": [
    {
     "name": "stdout",
     "output_type": "stream",
     "text": [
      "Test Accuracy: 75.16%\n"
     ]
    }
   ],
   "source": [
    "# Testing loop\n",
    "model.eval()\n",
    "correct = 0\n",
    "total = 0\n",
    "\n",
    "with torch.no_grad():\n",
    "    for inputs, labels in test_loader:\n",
    "        inputs, labels = inputs.to(device), labels.to(device)\n",
    "        outputs = model(inputs)\n",
    "        _, predicted = torch.max(outputs.data, 1)\n",
    "        total += labels.size(0)\n",
    "        correct += (predicted == labels).sum().item()\n",
    "\n",
    "accuracy = 100 * correct / total\n",
    "print(f\"Test Accuracy: {accuracy:.2f}%\")"
   ]
  },
  {
   "cell_type": "markdown",
   "metadata": {},
   "source": [
    "# ResNet-50 model"
   ]
  },
  {
   "cell_type": "code",
   "execution_count": null,
   "metadata": {},
   "outputs": [],
   "source": [
    "# Check if folder existes else creates it\n",
    "def create_folder_if_not_exists(folder_path):\n",
    "\n",
    "    if not os.path.exists(folder_path):\n",
    "        try:\n",
    "            os.makedirs(folder_path)\n",
    "            print(f\"Folder '{folder_path}' created.\")\n",
    "        except OSError as e:\n",
    "            print(f\"Error creating folder '{folder_path}': {e}\")"
   ]
  },
  {
   "cell_type": "code",
   "execution_count": null,
   "metadata": {},
   "outputs": [],
   "source": [
    "# Load a pre-trained ResNet-50 model\n",
    "model = torchvision.models.resnet50(pretrained=True)\n",
    "\n",
    "# Freeze all layers except the final classification layer\n",
    "for param in model.parameters():\n",
    "    param.requires_grad = False\n",
    "model.fc.requires_grad = True\n",
    "\n",
    "\n",
    "# Modify the final classification layer to match your number of classes\n",
    "num_classes = len(train_dataset.classes)\n",
    "model.fc = nn.Linear(2048, num_classes)  # 2048 is the output size of ResNet-50\n",
    "\n",
    "\n",
    "# Define loss function and optimizer\n",
    "criterion = nn.CrossEntropyLoss()\n",
    "optimizer = optim.Adam(model.fc.parameters(), lr=0.001)\n",
    "\n",
    "# Train the model\n",
    "num_epochs = 3 #20 - Loss: 0.2588 -acc:83.78%\n",
    "device = torch.device(\"cuda:0\" if torch.cuda.is_available() else \"cpu\")\n",
    "model.to(device)\n",
    "\n",
    "for epoch in range(num_epochs):\n",
    "    model.train()\n",
    "    running_loss = 0.0\n",
    "    for inputs, labels in train_loader:\n",
    "        inputs, labels = inputs.to(device), labels.to(device)\n",
    "        optimizer.zero_grad()\n",
    "        outputs = model(inputs)\n",
    "        loss = criterion(outputs, labels)\n",
    "        loss.backward()\n",
    "        optimizer.step()\n",
    "        running_loss += loss.item()\n",
    "    print(f\"Epoch {epoch + 1}, Loss: {running_loss / len(train_loader)}\")\n",
    "\n",
    "print(\"Training finished.\")\n"
   ]
  },
  {
   "cell_type": "code",
   "execution_count": null,
   "metadata": {},
   "outputs": [],
   "source": [
    "# Evaluate the model on the test data\n",
    "model.eval()\n",
    "correct = 0\n",
    "total = 0\n",
    "with torch.no_grad():\n",
    "    for inputs, labels in test_loader:\n",
    "        inputs, labels = inputs.to(device), labels.to(device)\n",
    "        outputs = model(inputs)\n",
    "        _, predicted = torch.max(outputs.data, 1)\n",
    "        total += labels.size(0)\n",
    "        correct += (predicted == labels).sum().item()\n",
    "\n",
    "accuracy = 100 * correct / total\n",
    "print(f\"Accuracy on test data: {accuracy:.2f}%\")\n",
    "\n",
    "\n",
    "if accuracy>75:\n",
    "    # create Models\n",
    "    create_folder_if_not_exists('Models/')\n",
    "    # Save the trained model to a file\n",
    "    torch.save(model, 'Models/ResNet-50.model.pth')"
   ]
  },
  {
   "cell_type": "code",
   "execution_count": null,
   "metadata": {},
   "outputs": [],
   "source": []
  },
  {
   "cell_type": "code",
   "execution_count": null,
   "metadata": {},
   "outputs": [],
   "source": []
  }
 ],
 "metadata": {
  "kernelspec": {
   "display_name": "Python 3",
   "language": "python",
   "name": "python3"
  },
  "language_info": {
   "codemirror_mode": {
    "name": "ipython",
    "version": 3
   },
   "file_extension": ".py",
   "mimetype": "text/x-python",
   "name": "python",
   "nbconvert_exporter": "python",
   "pygments_lexer": "ipython3",
   "version": "3.9.12"
  },
  "orig_nbformat": 4
 },
 "nbformat": 4,
 "nbformat_minor": 2
}
