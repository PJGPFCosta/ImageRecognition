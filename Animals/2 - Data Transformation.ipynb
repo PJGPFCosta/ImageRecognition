{
 "cells": [
  {
   "cell_type": "markdown",
   "metadata": {},
   "source": [
    "# Animal Image Recognition\n",
    "\n",
    "#### Problem: Unsupervised Learning\n",
    "- 1. Use unsupervied learning to classify the training data\n",
    "- 2. Use supervied learning to classify the unlabel data"
   ]
  },
  {
   "cell_type": "code",
   "execution_count": 1,
   "metadata": {},
   "outputs": [],
   "source": [
    "# import data set of test and train\n",
    "from PIL import Image,ImageEnhance\n",
    "import os\n",
    "import numpy as np\n"
   ]
  },
  {
   "cell_type": "markdown",
   "metadata": {},
   "source": [
    "### 1. Data Preprocessing:\n",
    "\n",
    "- Resize all images to a consistent size (e.g., 224x224 pixels) to ensure uniformity.\n",
    "- Normalize pixel values to a standard range (typically between 0 and 1 or -1 and 1).\n",
    "- Augment the dataset with transformations like rotation, flipping, and scaling to increase the diversity of training examples\n",
    "- Data augmentation helps the model generalize better."
   ]
  },
  {
   "cell_type": "code",
   "execution_count": 2,
   "metadata": {},
   "outputs": [],
   "source": [
    "# Resize all images to a consistent size\n",
    "\n",
    "def resize_images(image_files,new_size):\n",
    "    # Process each image in the folder\n",
    "    for image_file in image_files:\n",
    "        # Open the image\n",
    "        image_path = os.path.join(folder_path, image_file)\n",
    "        image = Image.open(image_path)    \n",
    "        \n",
    "        if image.size != new_size:\n",
    "            # Resize the image\n",
    "            resized_image = image.resize(new_size)\n",
    "            # Save the resized image\n",
    "            resized_image.save(os.path.join(folder_path, 'resized_' + image_file))\n",
    "            print(\"Image was resized\")\n",
    "\n",
    "\n",
    "def resize_image(image,new_size):        \n",
    "    if image.size != new_size:\n",
    "        # Resize the image\n",
    "        resized_image = image.resize(new_size)\n",
    "    else:\n",
    "        resized_image=image\n",
    "    return resized_image\n",
    "        \n",
    "                \n",
    "def adjust_brightness_contrast_image(image, brightness_factor, contrast_factor):\n",
    "    \n",
    "    # Apply brightness enhancement\n",
    "    brightness = ImageEnhance.Brightness(image)\n",
    "    image = brightness.enhance(brightness_factor)\n",
    "    \n",
    "    # Apply contrast enhancement\n",
    "    contrast = ImageEnhance.Contrast(image)\n",
    "    image = contrast.enhance(contrast_factor)\n",
    "    \n",
    "    return image"
   ]
  },
  {
   "cell_type": "code",
   "execution_count": 3,
   "metadata": {},
   "outputs": [],
   "source": [
    "def normalize_pixel_values(image_files,new_size,folder_path,folder_path_to_save,brightness_factor=1.2, contrast_factor=1.2):\n",
    "    \n",
    "    # Process each image in the folder\n",
    "    for image_file in image_files:\n",
    "        # Open the image\n",
    "        image_path = os.path.join(folder_path, image_file)\n",
    "        image = Image.open(image_path)   \n",
    "        \n",
    "        #resize image\n",
    "        image=resize_image(image,new_size)\n",
    "\n",
    "        # Adjust_brightness_contrast_image\n",
    "        image=adjust_brightness_contrast_image(image,brightness_factor,contrast_factor)\n",
    "\n",
    "        # Convert the image to a NumPy array\n",
    "        image_array = np.array(image)\n",
    "\n",
    "        # Normalize the pixel values to the range [0, 1]\n",
    "        normalized_image_array = image_array / 255.0\n",
    "\n",
    "        # Create a new Image object from the normalized array\n",
    "        normalized_image = Image.fromarray((normalized_image_array * 255).astype('uint8'))\n",
    "\n",
    "        # Ensure the directory exists; if not, create it\n",
    "        if not os.path.exists(folder_path_to_save):\n",
    "            os.makedirs(folder_path_to_save)\n",
    "\n",
    "        # Save or display the normalized image\n",
    "        normalized_image.save(os.path.join(folder_path_to_save, 'normalized_' + image_file))\n",
    "\n"
   ]
  },
  {
   "cell_type": "code",
   "execution_count": 4,
   "metadata": {},
   "outputs": [],
   "source": [
    "\n",
    "\n",
    "def tranform_data(folder_path = 'Dataset/train/',folder_path_to_save='Dataset/train_images_transformed/',new_size = (96, 96),category=1 ):\n",
    "\n",
    "    category=int(category) #force int\n",
    "\n",
    "    while category <=10:\n",
    "        # Get a list of all image files in the folder\n",
    "        folder_path_aux=folder_path+str(category)+\"/\"\n",
    "        folder_path_to_save_aux=folder_path_to_save+str(category)+\"/\"\n",
    "\n",
    "        image_files = [f for f in os.listdir(folder_path_aux) if f.endswith(('.jpg', '.jpeg', '.png', '.bmp', '.gif'))]\n",
    "        category += 1\n",
    "\n",
    "        #transform data and save\n",
    "        normalize_pixel_values(image_files,new_size,folder_path_aux,folder_path_to_save_aux,brightness_factor,contrast_factor)\n",
    "       \n",
    "\n",
    "\n",
    "\n",
    "# Specify the folder containing your images\n",
    "#folder_path = 'Dataset/train/'\n",
    "folder_path = 'Dataset/test/'  \n",
    "# pecify the folder to save the images transformed\n",
    "#folder_path_to_save='Dataset/train_images_transformed/'\n",
    "folder_path_to_save='Dataset/test_images_transformed/'\n",
    "\n",
    "\n",
    "# Define augmentation factors for brightness and contrast\n",
    "brightness_factor = 1.5  # Adjust as needed (1.0 means no change)\n",
    "contrast_factor = 1.5    # Adjust as needed (1.0 means no change)\n",
    "\n",
    "# Define the new size\n",
    "new_size = (96, 96) \n",
    "\n",
    "category=1# first category\n",
    "# Envoce the method to transform the data\n",
    "tranform_data(folder_path,folder_path_to_save,new_size,category)\n"
   ]
  },
  {
   "cell_type": "code",
   "execution_count": null,
   "metadata": {},
   "outputs": [],
   "source": []
  }
 ],
 "metadata": {
  "kernelspec": {
   "display_name": "Python 3",
   "language": "python",
   "name": "python3"
  },
  "language_info": {
   "codemirror_mode": {
    "name": "ipython",
    "version": 3
   },
   "file_extension": ".py",
   "mimetype": "text/x-python",
   "name": "python",
   "nbconvert_exporter": "python",
   "pygments_lexer": "ipython3",
   "version": "3.9.12"
  },
  "orig_nbformat": 4
 },
 "nbformat": 4,
 "nbformat_minor": 2
}
